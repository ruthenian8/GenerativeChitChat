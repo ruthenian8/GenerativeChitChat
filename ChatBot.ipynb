{
  "nbformat": 4,
  "nbformat_minor": 0,
  "metadata": {
    "colab": {
      "name": "ChatBot.ipynb",
      "provenance": [],
      "collapsed_sections": [],
      "authorship_tag": "ABX9TyNecOYthTW7BcD9POYTZai0"
    },
    "kernelspec": {
      "name": "python3",
      "display_name": "Python 3"
    },
    "language_info": {
      "name": "python"
    },
    "accelerator": "GPU"
  },
  "cells": [
    {
      "cell_type": "markdown",
      "source": [
        "# Data preparation"
      ],
      "metadata": {
        "id": "OWELiZXsZc04"
      }
    },
    {
      "cell_type": "code",
      "source": [
        "from google.colab import drive\n",
        "drive.mount('/content/drive')"
      ],
      "metadata": {
        "colab": {
          "base_uri": "https://localhost:8080/"
        },
        "id": "GTkfrU8dUleK",
        "outputId": "1685f003-4887-4c90-f870-2919006ca991"
      },
      "execution_count": 1,
      "outputs": [
        {
          "output_type": "stream",
          "name": "stdout",
          "text": [
            "Drive already mounted at /content/drive; to attempt to forcibly remount, call drive.mount(\"/content/drive\", force_remount=True).\n"
          ]
        }
      ]
    },
    {
      "cell_type": "code",
      "source": [
        "!cp drive/MyDrive/qa_data.jsonl.zip ."
      ],
      "metadata": {
        "id": "nho5GlT5U6sD"
      },
      "execution_count": 2,
      "outputs": []
    },
    {
      "cell_type": "code",
      "source": [
        "!unzip qa_data.jsonl.zip"
      ],
      "metadata": {
        "colab": {
          "base_uri": "https://localhost:8080/"
        },
        "id": "9wUHz064VIXF",
        "outputId": "3f9f4558-d619-484b-c02e-b00500d2f8c6"
      },
      "execution_count": 3,
      "outputs": [
        {
          "output_type": "stream",
          "name": "stdout",
          "text": [
            "Archive:  qa_data.jsonl.zip\n",
            "replace qa_data.jsonl? [y]es, [n]o, [A]ll, [N]one, [r]ename: n\n",
            "replace __MACOSX/._qa_data.jsonl? [y]es, [n]o, [A]ll, [N]one, [r]ename: n\n"
          ]
        }
      ]
    },
    {
      "cell_type": "code",
      "source": [
        "!head -n 300000 qa_data.jsonl > data.jsonl"
      ],
      "metadata": {
        "id": "Pz3sGsVuXRXW"
      },
      "execution_count": 4,
      "outputs": []
    },
    {
      "cell_type": "code",
      "source": [
        "!pip install youtokentome"
      ],
      "metadata": {
        "colab": {
          "base_uri": "https://localhost:8080/"
        },
        "id": "KIzffXqg5kr_",
        "outputId": "7d66f871-dabb-48ff-91bc-8251d067c1c8"
      },
      "execution_count": 5,
      "outputs": [
        {
          "output_type": "stream",
          "name": "stdout",
          "text": [
            "Requirement already satisfied: youtokentome in /usr/local/lib/python3.7/dist-packages (1.0.6)\n",
            "Requirement already satisfied: Click>=7.0 in /usr/local/lib/python3.7/dist-packages (from youtokentome) (7.1.2)\n"
          ]
        }
      ]
    },
    {
      "cell_type": "code",
      "source": [
        "!head -n 500000 qa_data.jsonl | sed 's/[^0-9а-яА-Я \\-\\.\\?]//g' | sed 's/  / /g' > forbpe.txt"
      ],
      "metadata": {
        "id": "gzC1tycl57xu"
      },
      "execution_count": 6,
      "outputs": []
    },
    {
      "cell_type": "markdown",
      "source": [
        "# Imports"
      ],
      "metadata": {
        "id": "1NKkdN9-Zk1y"
      }
    },
    {
      "cell_type": "code",
      "execution_count": 7,
      "metadata": {
        "id": "q9bI-ZU4Kn86"
      },
      "outputs": [],
      "source": [
        "import numpy as np\n",
        "import pandas as pd\n",
        "import json\n",
        "import random\n",
        "import torch\n",
        "import torch.nn as nn\n",
        "import torch.nn.functional as F\n",
        "import torch.optim as optim\n",
        "from torch.utils.data import Dataset, DataLoader"
      ]
    },
    {
      "cell_type": "code",
      "source": [
        "from tqdm import tqdm"
      ],
      "metadata": {
        "id": "Tww0dJupcFiJ"
      },
      "execution_count": 8,
      "outputs": []
    },
    {
      "cell_type": "code",
      "source": [
        "from torchtext.legacy.data import BucketIterator\n",
        "from torchtext.nn import MultiheadAttentionContainer, InProjContainer, ScaledDotProduct"
      ],
      "metadata": {
        "id": "mUuQGrc4x0dR"
      },
      "execution_count": 9,
      "outputs": []
    },
    {
      "cell_type": "code",
      "source": [
        "import youtokentome as yttm"
      ],
      "metadata": {
        "id": "JWv5-XEh5tZq"
      },
      "execution_count": 10,
      "outputs": []
    },
    {
      "cell_type": "code",
      "source": [
        "from collections import namedtuple"
      ],
      "metadata": {
        "id": "h7Gx4DPJgyTK"
      },
      "execution_count": 11,
      "outputs": []
    },
    {
      "cell_type": "markdown",
      "source": [
        "# Подготовка"
      ],
      "metadata": {
        "id": "zGQFmJ9j-Xfn"
      }
    },
    {
      "cell_type": "code",
      "source": [
        "%%time\n",
        "vocab_size = 30000\n",
        "model_path = 'pretrained_bpe_lm.model'\n",
        "yttm.BPE.train(data='forbpe.txt', vocab_size=vocab_size, model=model_path)"
      ],
      "metadata": {
        "colab": {
          "base_uri": "https://localhost:8080/"
        },
        "id": "4tr6Y-mA-RDg",
        "outputId": "01ee21c0-96ae-4c9b-febd-07c5d4342b59"
      },
      "execution_count": 12,
      "outputs": [
        {
          "output_type": "stream",
          "name": "stdout",
          "text": [
            "CPU times: user 15.9 s, sys: 1.68 s, total: 17.6 s\n",
            "Wall time: 14.6 s\n"
          ]
        }
      ]
    },
    {
      "cell_type": "code",
      "source": [
        "tokenizer = yttm.BPE(model=model_path)\n",
        "(PAD_TOKEN,\n",
        "UNK_TOKEN,\n",
        "START_TOKEN,\n",
        "END_TOKEN) = tokenizer.vocab()[:4]\n",
        "MAX_LEN=48\n",
        "PAD_IDX = tokenizer.subword_to_id(PAD_TOKEN)"
      ],
      "metadata": {
        "id": "p0j-FGpH-l4I"
      },
      "execution_count": 13,
      "outputs": []
    },
    {
      "cell_type": "code",
      "source": [
        "device = torch.device(\"cuda\" if torch.cuda.is_available() else \"cpu\")"
      ],
      "metadata": {
        "id": "oURLpx5GG1qF"
      },
      "execution_count": 14,
      "outputs": []
    },
    {
      "cell_type": "code",
      "source": [
        "data = list()\n",
        "\n",
        "with open('data.jsonl') as file_object:\n",
        "    for line in file_object:\n",
        "        data.append(json.loads(line.strip()))\n",
        "\n",
        "test_start_idx = int(len(data) * 0.05)\n",
        "val_start_idx = test_start_idx * 2\n",
        "random.shuffle(data)\n",
        "test_subset = data[:test_start_idx]\n",
        "valid_subset = data[test_start_idx:val_start_idx]\n",
        "train_subset = data[val_start_idx:]"
      ],
      "metadata": {
        "id": "El9PteyJk4iF"
      },
      "execution_count": 15,
      "outputs": []
    },
    {
      "cell_type": "code",
      "source": [
        "class QADataset(Dataset):\n",
        "    def __init__(self, data, _tokenizer=None, MAX_LEN=MAX_LEN):\n",
        "        super().__init__()\n",
        "        if _tokenizer is None:\n",
        "            _tokenizer = tokenizer\n",
        "        self._tokenizer = _tokenizer\n",
        "        questions = []\n",
        "        responses = []\n",
        "        self.length: int\n",
        "        for line_dict in data:\n",
        "            question = line_dict[\"question\"]\n",
        "            response = line_dict[\"responses\"]\n",
        "            if len(response) == 0:\n",
        "                continue\n",
        "            questions.append(\n",
        "                self._tokenize(question, MAX_LEN)\n",
        "            )\n",
        "            responses.append(\n",
        "                self._tokenize(response[0], MAX_LEN)\n",
        "            )\n",
        "        else:\n",
        "            assert len(questions) == len(responses)\n",
        "            self.length = len(questions)\n",
        "        self.questions = torch.nn.utils.rnn.pad_sequence(\n",
        "            questions,\n",
        "            batch_first=True,\n",
        "            padding_value=PAD_IDX\n",
        "        )\n",
        "        self.responses = torch.nn.utils.rnn.pad_sequence(\n",
        "            questions,\n",
        "            batch_first=True,\n",
        "            padding_value=PAD_IDX\n",
        "        )\n",
        "\n",
        "    def __len__(self):\n",
        "        return self.length\n",
        "\n",
        "    def __getitem__(self, item):\n",
        "        return (\n",
        "            self.questions[item],\n",
        "            self.responses[item],\n",
        "        )\n",
        "\n",
        "    def _tokenize(self, text, max_len):\n",
        "        return torch.LongTensor(\n",
        "            self._tokenizer.encode(text, bos=True, eos=True)[:max_len]\n",
        "        )"
      ],
      "metadata": {
        "id": "2Ibs0Kf-1yk7"
      },
      "execution_count": 16,
      "outputs": []
    },
    {
      "cell_type": "code",
      "source": [
        "train_dataset = QADataset(train_subset)\n",
        "valid_dataset = QADataset(valid_subset)\n",
        "test_dataset = QADataset(test_subset)"
      ],
      "metadata": {
        "id": "gljLEhiHn4RH"
      },
      "execution_count": 17,
      "outputs": []
    },
    {
      "cell_type": "code",
      "source": [
        "train_dataloader = DataLoader(train_dataset, shuffle=True, batch_size=64)\n",
        "valid_dataloader = DataLoader(valid_dataset, shuffle=True, batch_size=64)\n",
        "test_dataloader = DataLoader(test_dataset, shuffle=True, batch_size=64)"
      ],
      "metadata": {
        "id": "DjzaqFGQG2mM"
      },
      "execution_count": 18,
      "outputs": []
    },
    {
      "cell_type": "code",
      "source": [
        "for i in train_dataloader:\n",
        "    print(i[0].shape)\n",
        "    break"
      ],
      "metadata": {
        "colab": {
          "base_uri": "https://localhost:8080/"
        },
        "id": "8_zUYm3Dq27v",
        "outputId": "6bdcf69f-1250-4e6d-e182-006c811e1f93"
      },
      "execution_count": 19,
      "outputs": [
        {
          "output_type": "stream",
          "name": "stdout",
          "text": [
            "torch.Size([64, 48])\n"
          ]
        }
      ]
    },
    {
      "cell_type": "markdown",
      "source": [
        "# Модель"
      ],
      "metadata": {
        "id": "u4i3QI5OIlfv"
      }
    },
    {
      "cell_type": "code",
      "source": [
        "class PositionWiseFF(nn.Module):\n",
        "    def __init__(self, embed_dim, pf_dim, dropout):\n",
        "        super().__init__()\n",
        "        self.hidden = nn.Linear(embed_dim, pf_dim)\n",
        "        self.gate = nn.Linear(pf_dim, embed_dim)\n",
        "        self.dropout = nn.Dropout(dropout)\n",
        "\n",
        "    def forward(self, embedding):\n",
        "        hidden = self.dropout(\n",
        "            torch.relu(self.hidden(embedding))\n",
        "        )\n",
        "        return self.gate(hidden)"
      ],
      "metadata": {
        "id": "I9xcSkc01YtG"
      },
      "execution_count": 20,
      "outputs": []
    },
    {
      "cell_type": "code",
      "source": [
        "class EncodLayer(nn.Module):\n",
        "    def __init__(\n",
        "        self,\n",
        "        embed_dim,\n",
        "        pf_dim,        \n",
        "        num_heads=8,\n",
        "        dropout=0.1\n",
        "    ):\n",
        "        super().__init__()\n",
        "        self.norm_attention, self.norm_ff = (\n",
        "            2 * [nn.LayerNorm(embed_dim)]\n",
        "        )\n",
        "        projection_container = InProjContainer(\n",
        "            *(3 * [nn.Linear(embed_dim, embed_dim)])\n",
        "        )\n",
        "        self.selfAttention = MultiheadAttentionContainer(\n",
        "            num_heads,\n",
        "            projection_container,\n",
        "            ScaledDotProduct(dropout=dropout, batch_first=True),\n",
        "            nn.Linear(embed_dim, embed_dim),\n",
        "            batch_first=True\n",
        "        )\n",
        "        self.ff = PositionWiseFF(embed_dim, pf_dim, dropout)\n",
        "\n",
        "    def forward(self, embedding, mask):\n",
        "        gated, _ = self.selfAttention(*(3 * [embedding]), mask)\n",
        "        # apply residual connection\n",
        "        normalized = self.norm_attention(embedding + gated)\n",
        "        gated = self.ff(embedding)\n",
        "        return self.norm_ff(\n",
        "            normalized + gated # apply residual connection\n",
        "        )"
      ],
      "metadata": {
        "id": "tXAf2NDrsAvE"
      },
      "execution_count": 21,
      "outputs": []
    },
    {
      "cell_type": "code",
      "source": [
        "class Encoder(nn.Module):\n",
        "    def __init__(\n",
        "        self,\n",
        "        vocab_size,\n",
        "        embed_dim,\n",
        "        pf_dim,\n",
        "        num_heads=8,\n",
        "        num_layers=6,\n",
        "        dropout=0.1,\n",
        "        MAX_LEN=MAX_LEN\n",
        "    ):\n",
        "        super().__init__()\n",
        "        self.embedding = nn.Embedding(vocab_size, embed_dim, padding_idx=PAD_IDX)\n",
        "        self.positional = nn.Embedding(MAX_LEN, embed_dim)\n",
        "        self.scaling = torch.sqrt(torch.FloatTensor([embed_dim])).to(device)\n",
        "        self.encoder_layers = nn.ModuleList(\n",
        "            num_layers * [EncodLayer(embed_dim, pf_dim, num_heads, dropout)] \n",
        "        )\n",
        "        self.dropout = nn.Dropout(dropout)\n",
        "\n",
        "    def forward(self, texts, mask):\n",
        "        batch_size, text_len = texts.shape[:2]\n",
        "        # position matrix for texts\n",
        "        pos = torch.IntTensor(\n",
        "            batch_size * [list(range(text_len))]\n",
        "        ).to(device)\n",
        "        pos_hidden = self.positional(pos)\n",
        "        text_hidden = self.embedding(texts) * self.scaling\n",
        "        combined = self.dropout(pos_hidden + text_hidden)\n",
        "        for layer in self.encoder_layers:\n",
        "            combined = layer(combined, mask)\n",
        "        return combined"
      ],
      "metadata": {
        "id": "D2U8Q6dcsvvj"
      },
      "execution_count": 22,
      "outputs": []
    },
    {
      "cell_type": "code",
      "source": [
        "class DecoderLayer(nn.Module):\n",
        "    def __init__(\n",
        "        self,\n",
        "        embed_dim,\n",
        "        pf_dim,\n",
        "        num_heads=8,\n",
        "        dropout=0.1,\n",
        "        MAX_LEN=MAX_LEN\n",
        "    ):\n",
        "        super().__init__()\n",
        "        self.norm_attention, self.norm_encoder, self.norm_ff = (\n",
        "            3 * [nn.LayerNorm(embed_dim)]\n",
        "        )\n",
        "        projection_containers = 2 * [\n",
        "            InProjContainer(*(3 * [nn.Linear(embed_dim, embed_dim)]))\n",
        "        ]\n",
        "        self.encAttention, self.selfAttention = [\n",
        "            MultiheadAttentionContainer(num_heads,\n",
        "                                        container,\n",
        "                                        ScaledDotProduct(dropout=dropout, batch_first=True),\n",
        "                                        nn.Linear(embed_dim, embed_dim),\n",
        "                                        batch_first=True)\n",
        "            for container in projection_containers                                             \n",
        "        ]\n",
        "        self.ff = PositionWiseFF(embed_dim, pf_dim, dropout)\n",
        "\n",
        "    def forward(self, target, encoded, decoder_mask, encoder_mask):\n",
        "        gated, _ = self.selfAttention(*(3 * [target]), decoder_mask)\n",
        "        \n",
        "        target = self.norm_attention(target + gated) # apply residual connection\n",
        "        # print(f\"target: {target.shape}\\n encoded: {encoded.shape}\")\n",
        "        gated, attention = self.encAttention(target,\n",
        "                                             *(2 * [encoded]),\n",
        "                                             encoder_mask)\n",
        "        target = self.norm_encoder(target + gated) # apply residual connection\n",
        "        target = self.norm_ff(target + self.ff(target)) # apply residual connection\n",
        "        return target, attention\n",
        "    "
      ],
      "metadata": {
        "id": "w1t7d3tN2Ii6"
      },
      "execution_count": 41,
      "outputs": []
    },
    {
      "cell_type": "code",
      "source": [
        "class Decoder(nn.Module):\n",
        "    def __init__(\n",
        "        self,\n",
        "        vocab_size,\n",
        "        embed_dim,\n",
        "        pf_dim,\n",
        "        num_heads=8,\n",
        "        num_layers=6,\n",
        "        dropout=0.1,\n",
        "        MAX_LEN=MAX_LEN                 \n",
        "    ):\n",
        "        super().__init__()\n",
        "        self.embedding = nn.Embedding(vocab_size, embed_dim, padding_idx=PAD_IDX)\n",
        "        self.positional = nn.Embedding(MAX_LEN, embed_dim)\n",
        "        self.decoder_layers = nn.ModuleList(\n",
        "            num_layers * [DecoderLayer(embed_dim, pf_dim, num_heads, dropout)]\n",
        "        )\n",
        "        self.scaling = torch.sqrt(torch.FloatTensor([embed_dim])).to(device)\n",
        "        self.output = nn.Linear(embed_dim, vocab_size)\n",
        "        self.dropout = nn.Dropout(dropout)\n",
        "\n",
        "    def forward(self, target, encoded, decoder_mask, encoder_mask):\n",
        "        batch_size, text_len = target.shape[:2]\n",
        "        pos = torch.IntTensor(\n",
        "            batch_size * [list(range(text_len))]\n",
        "        ).to(device)        \n",
        "        pos_hidden = self.positional(pos)\n",
        "        text_hidden = self.embedding(target) * self.scaling\n",
        "        combined = self.dropout(pos_hidden + text_hidden)\n",
        "        for layer in self.decoder_layers:\n",
        "            combined, attention = layer(combined, encoded, decoder_mask, encoder_mask)\n",
        "        output = self.output(combined)\n",
        "        return output, attention"
      ],
      "metadata": {
        "id": "OfgH793t_60A"
      },
      "execution_count": 42,
      "outputs": []
    },
    {
      "cell_type": "code",
      "source": [
        "class LanguageModel(nn.Module):\n",
        "    def __init__(self, **kwargs):\n",
        "        super().__init__()\n",
        "        self.encoder = Encoder(**kwargs)\n",
        "        self.decoder = Decoder(**kwargs)\n",
        "        self.encoder.embedding.weight = self.decoder.output.weight\n",
        "\n",
        "    @staticmethod\n",
        "    def mask(batch, stage='encoding'):\n",
        "        shape = batch.shape[1]\n",
        "        print(f\"batch shape: {batch.shape}\")\n",
        "        mask = (batch != PAD_IDX).unsqueeze(1) & torch.ones(\n",
        "            (shape, shape), device=device\n",
        "        ).bool()\n",
        "        print(f\"mask shape: {mask.shape}\")\n",
        "        return mask\n",
        "\n",
        "    def forward(self, texts, target):\n",
        "        # encoder_mask = self.mask(texts)\n",
        "        encoder_mask=None\n",
        "        # decoder_mask = self.mask(target, stage='decoding')\n",
        "        decoder_mask=None\n",
        "        print(\"\\nencoding\")\n",
        "        encoded = self.encoder(texts, encoder_mask)\n",
        "        print(\"\\ndecoding\")\n",
        "        output, attention = self.decoder(target, encoded, decoder_mask, encoder_mask)\n",
        "        return output, attention"
      ],
      "metadata": {
        "id": "HeWJKDqGbKY_"
      },
      "execution_count": 43,
      "outputs": []
    },
    {
      "cell_type": "code",
      "source": [
        "model = LanguageModel(\n",
        "    vocab_size=vocab_size,\n",
        "    embed_dim=128,\n",
        "    pf_dim=256,\n",
        "    num_heads=8,\n",
        "    dropout=0.1,\n",
        "    MAX_LEN=MAX_LEN\n",
        ").to(device)"
      ],
      "metadata": {
        "id": "Rwyz8Q_ekP5s"
      },
      "execution_count": 35,
      "outputs": []
    },
    {
      "cell_type": "code",
      "source": [
        "optimizer = optim.Adam(model.parameters(), lr=0.005)\n",
        "scheduler = optim.lr_scheduler.StepLR(optimizer, step_size=15, gamma=0.1)\n",
        "loss = nn.CrossEntropyLoss(ignore_index = PAD_IDX)"
      ],
      "metadata": {
        "id": "k1pzTSr_sjXT"
      },
      "execution_count": 36,
      "outputs": []
    },
    {
      "cell_type": "markdown",
      "source": [
        "# Обучение"
      ],
      "metadata": {
        "id": "tVmmwgjAIiXb"
      }
    },
    {
      "cell_type": "code",
      "source": [
        "def train(model:nn.Module,\n",
        "          iterator:torch.utils.data.DataLoader,\n",
        "          optimizer:torch.optim.Optimizer,\n",
        "          loss_fn:nn.modules.loss._Loss,\n",
        "          grad_clip:int=1,\n",
        "          print_every:int=1000):\n",
        "    \n",
        "    epoch_loss:list = []\n",
        "    model.train()\n",
        "    \n",
        "    for i, (texts, ys) in enumerate(iterator):\n",
        "        optimizer.zero_grad()\n",
        "\n",
        "        output, _ = model(texts.to(device), ys.to(device))\n",
        "        print(f\"output shape: {output.shape}\")\n",
        "        print(f\"ys shape: {ys.shape}\")\n",
        "        output_dim = output.shape[-1]    \n",
        "        output = output.contiguous().view(-1, output_dim)\n",
        "        ys = ys.contiguous().view(-1)\n",
        "        print(f\"output shape: {output.shape}\")\n",
        "        print(f\"ys shape: {ys.shape}\")\n",
        "        print(\"before loss\")\n",
        "        loss = loss_fn(output, ys)\n",
        "        loss.backward()\n",
        "        epoch_loss.append(loss.item())\n",
        "\n",
        "        torch.nn.utils.clip_grad_norm_(model.parameters(), grad_clip)\n",
        "        optimizer.step()\n",
        "        \n",
        "        if not (i + 1) % print_every:\n",
        "            print(f\"loss: {np.mean(epoch_loss)}\")\n",
        "    return np.mean(epoch_loss)\n",
        "    \n",
        "def evaluate(model:nn.Module,\n",
        "             iterator:torch.utils.data.DataLoader,\n",
        "             loss_fn:torch.nn.modules.loss._Loss):\n",
        "    \n",
        "    epoch_loss:list = []\n",
        "        \n",
        "    model.eval()\n",
        "    with torch.no_grad():\n",
        "        for texts, ys in iterator:\n",
        "            output, _ = model(texts.to(device), ys.to(device))\n",
        "            output_dim = output.shape[-1]    \n",
        "            output = output.contiguous().view(-1, output_dim)\n",
        "            ys = ys.contiguous().view(-1)\n",
        "\n",
        "            loss = loss_fn(output, ys)\n",
        "            epoch_loss.append(loss.item())\n",
        "    \n",
        "    return np.mean(epoch_loss)"
      ],
      "metadata": {
        "id": "5Q3x2NXm0ict"
      },
      "execution_count": 47,
      "outputs": []
    },
    {
      "cell_type": "code",
      "source": [
        "loss_eval = []\n",
        "\n",
        "NUM_EPOCHS = 60  \n",
        "counter = 0\n",
        "best_loss = 100\n",
        "\n",
        "for n_epoch in tqdm(range(NUM_EPOCHS)):\n",
        "    print(f\"\\nEpoch #{str(n_epoch + 1)}:\")\n",
        "    train = train(model, train_dataloader, optimizer, loss)\n",
        "    ev = evaluate(model, valid_dataloader, loss)\n",
        "    loss_eval.append(ev)\n",
        "    print(\"\\nMean Loss: \", ev)\n",
        "    # for early stopping\n",
        "    if ev < best_loss:\n",
        "        best_loss = ev\n",
        "        counter = 0\n",
        "    else:\n",
        "        counter += 1\n",
        "    if counter == 5:\n",
        "        break\n",
        "\n",
        "    # for saving\n",
        "    if n_epoch % 5 == 0:\n",
        "        torch.save(model.state_dict(), 'trans.pt')"
      ],
      "metadata": {
        "colab": {
          "base_uri": "https://localhost:8080/",
          "height": 502
        },
        "id": "WBcbN6Qf0pfT",
        "outputId": "b597a4f6-33ab-4a36-97d1-0bb2187d1f08"
      },
      "execution_count": 50,
      "outputs": [
        {
          "output_type": "stream",
          "name": "stderr",
          "text": [
            "  0%|          | 0/60 [00:00<?, ?it/s]"
          ]
        },
        {
          "output_type": "stream",
          "name": "stdout",
          "text": [
            "\n",
            "Epoch #1:\n",
            "\n",
            "encoding\n"
          ]
        },
        {
          "output_type": "stream",
          "name": "stderr",
          "text": [
            "\n"
          ]
        },
        {
          "output_type": "error",
          "ename": "RuntimeError",
          "evalue": "ignored",
          "traceback": [
            "\u001b[0;31m---------------------------------------------------------------------------\u001b[0m",
            "\u001b[0;31mRuntimeError\u001b[0m                              Traceback (most recent call last)",
            "\u001b[0;32m<ipython-input-50-0fdbf1f17e7e>\u001b[0m in \u001b[0;36m<module>\u001b[0;34m()\u001b[0m\n\u001b[1;32m      7\u001b[0m \u001b[0;32mfor\u001b[0m \u001b[0mn_epoch\u001b[0m \u001b[0;32min\u001b[0m \u001b[0mtqdm\u001b[0m\u001b[0;34m(\u001b[0m\u001b[0mrange\u001b[0m\u001b[0;34m(\u001b[0m\u001b[0mNUM_EPOCHS\u001b[0m\u001b[0;34m)\u001b[0m\u001b[0;34m)\u001b[0m\u001b[0;34m:\u001b[0m\u001b[0;34m\u001b[0m\u001b[0;34m\u001b[0m\u001b[0m\n\u001b[1;32m      8\u001b[0m     \u001b[0mprint\u001b[0m\u001b[0;34m(\u001b[0m\u001b[0;34mf\"\\nEpoch #{str(n_epoch + 1)}:\"\u001b[0m\u001b[0;34m)\u001b[0m\u001b[0;34m\u001b[0m\u001b[0;34m\u001b[0m\u001b[0m\n\u001b[0;32m----> 9\u001b[0;31m     \u001b[0mtrain\u001b[0m \u001b[0;34m=\u001b[0m \u001b[0mtrain\u001b[0m\u001b[0;34m(\u001b[0m\u001b[0mmodel\u001b[0m\u001b[0;34m,\u001b[0m \u001b[0mtrain_dataloader\u001b[0m\u001b[0;34m,\u001b[0m \u001b[0moptimizer\u001b[0m\u001b[0;34m,\u001b[0m \u001b[0mloss\u001b[0m\u001b[0;34m)\u001b[0m\u001b[0;34m\u001b[0m\u001b[0;34m\u001b[0m\u001b[0m\n\u001b[0m\u001b[1;32m     10\u001b[0m     \u001b[0mev\u001b[0m \u001b[0;34m=\u001b[0m \u001b[0mevaluate\u001b[0m\u001b[0;34m(\u001b[0m\u001b[0mmodel\u001b[0m\u001b[0;34m,\u001b[0m \u001b[0mvalid_dataloader\u001b[0m\u001b[0;34m,\u001b[0m \u001b[0mloss\u001b[0m\u001b[0;34m)\u001b[0m\u001b[0;34m\u001b[0m\u001b[0;34m\u001b[0m\u001b[0m\n\u001b[1;32m     11\u001b[0m     \u001b[0mloss_eval\u001b[0m\u001b[0;34m.\u001b[0m\u001b[0mappend\u001b[0m\u001b[0;34m(\u001b[0m\u001b[0mev\u001b[0m\u001b[0;34m)\u001b[0m\u001b[0;34m\u001b[0m\u001b[0;34m\u001b[0m\u001b[0m\n",
            "\u001b[0;32m<ipython-input-47-01d02f72ea53>\u001b[0m in \u001b[0;36mtrain\u001b[0;34m(model, iterator, optimizer, loss_fn, grad_clip, print_every)\u001b[0m\n\u001b[1;32m     12\u001b[0m         \u001b[0moptimizer\u001b[0m\u001b[0;34m.\u001b[0m\u001b[0mzero_grad\u001b[0m\u001b[0;34m(\u001b[0m\u001b[0;34m)\u001b[0m\u001b[0;34m\u001b[0m\u001b[0;34m\u001b[0m\u001b[0m\n\u001b[1;32m     13\u001b[0m \u001b[0;34m\u001b[0m\u001b[0m\n\u001b[0;32m---> 14\u001b[0;31m         \u001b[0moutput\u001b[0m\u001b[0;34m,\u001b[0m \u001b[0m_\u001b[0m \u001b[0;34m=\u001b[0m \u001b[0mmodel\u001b[0m\u001b[0;34m(\u001b[0m\u001b[0mtexts\u001b[0m\u001b[0;34m.\u001b[0m\u001b[0mto\u001b[0m\u001b[0;34m(\u001b[0m\u001b[0mdevice\u001b[0m\u001b[0;34m)\u001b[0m\u001b[0;34m,\u001b[0m \u001b[0mys\u001b[0m\u001b[0;34m.\u001b[0m\u001b[0mto\u001b[0m\u001b[0;34m(\u001b[0m\u001b[0mdevice\u001b[0m\u001b[0;34m)\u001b[0m\u001b[0;34m)\u001b[0m\u001b[0;34m\u001b[0m\u001b[0;34m\u001b[0m\u001b[0m\n\u001b[0m\u001b[1;32m     15\u001b[0m         \u001b[0mprint\u001b[0m\u001b[0;34m(\u001b[0m\u001b[0;34mf\"output shape: {output.shape}\"\u001b[0m\u001b[0;34m)\u001b[0m\u001b[0;34m\u001b[0m\u001b[0;34m\u001b[0m\u001b[0m\n\u001b[1;32m     16\u001b[0m         \u001b[0mprint\u001b[0m\u001b[0;34m(\u001b[0m\u001b[0;34mf\"ys shape: {ys.shape}\"\u001b[0m\u001b[0;34m)\u001b[0m\u001b[0;34m\u001b[0m\u001b[0;34m\u001b[0m\u001b[0m\n",
            "\u001b[0;32m/usr/local/lib/python3.7/dist-packages/torch/nn/modules/module.py\u001b[0m in \u001b[0;36m_call_impl\u001b[0;34m(self, *input, **kwargs)\u001b[0m\n\u001b[1;32m   1100\u001b[0m         if not (self._backward_hooks or self._forward_hooks or self._forward_pre_hooks or _global_backward_hooks\n\u001b[1;32m   1101\u001b[0m                 or _global_forward_hooks or _global_forward_pre_hooks):\n\u001b[0;32m-> 1102\u001b[0;31m             \u001b[0;32mreturn\u001b[0m \u001b[0mforward_call\u001b[0m\u001b[0;34m(\u001b[0m\u001b[0;34m*\u001b[0m\u001b[0minput\u001b[0m\u001b[0;34m,\u001b[0m \u001b[0;34m**\u001b[0m\u001b[0mkwargs\u001b[0m\u001b[0;34m)\u001b[0m\u001b[0;34m\u001b[0m\u001b[0;34m\u001b[0m\u001b[0m\n\u001b[0m\u001b[1;32m   1103\u001b[0m         \u001b[0;31m# Do not call functions when jit is used\u001b[0m\u001b[0;34m\u001b[0m\u001b[0;34m\u001b[0m\u001b[0;34m\u001b[0m\u001b[0m\n\u001b[1;32m   1104\u001b[0m         \u001b[0mfull_backward_hooks\u001b[0m\u001b[0;34m,\u001b[0m \u001b[0mnon_full_backward_hooks\u001b[0m \u001b[0;34m=\u001b[0m \u001b[0;34m[\u001b[0m\u001b[0;34m]\u001b[0m\u001b[0;34m,\u001b[0m \u001b[0;34m[\u001b[0m\u001b[0;34m]\u001b[0m\u001b[0;34m\u001b[0m\u001b[0;34m\u001b[0m\u001b[0m\n",
            "\u001b[0;32m<ipython-input-34-a9755f2d2706>\u001b[0m in \u001b[0;36mforward\u001b[0;34m(self, texts, target)\u001b[0m\n\u001b[1;32m     22\u001b[0m         \u001b[0mdecoder_mask\u001b[0m\u001b[0;34m=\u001b[0m\u001b[0;32mNone\u001b[0m\u001b[0;34m\u001b[0m\u001b[0;34m\u001b[0m\u001b[0m\n\u001b[1;32m     23\u001b[0m         \u001b[0mprint\u001b[0m\u001b[0;34m(\u001b[0m\u001b[0;34m\"\\nencoding\"\u001b[0m\u001b[0;34m)\u001b[0m\u001b[0;34m\u001b[0m\u001b[0;34m\u001b[0m\u001b[0m\n\u001b[0;32m---> 24\u001b[0;31m         \u001b[0mencoded\u001b[0m \u001b[0;34m=\u001b[0m \u001b[0mself\u001b[0m\u001b[0;34m.\u001b[0m\u001b[0mencoder\u001b[0m\u001b[0;34m(\u001b[0m\u001b[0mtexts\u001b[0m\u001b[0;34m,\u001b[0m \u001b[0mencoder_mask\u001b[0m\u001b[0;34m)\u001b[0m\u001b[0;34m\u001b[0m\u001b[0;34m\u001b[0m\u001b[0m\n\u001b[0m\u001b[1;32m     25\u001b[0m         \u001b[0mprint\u001b[0m\u001b[0;34m(\u001b[0m\u001b[0;34m\"\\ndecoding\"\u001b[0m\u001b[0;34m)\u001b[0m\u001b[0;34m\u001b[0m\u001b[0;34m\u001b[0m\u001b[0m\n\u001b[1;32m     26\u001b[0m         \u001b[0moutput\u001b[0m\u001b[0;34m,\u001b[0m \u001b[0mattention\u001b[0m \u001b[0;34m=\u001b[0m \u001b[0mself\u001b[0m\u001b[0;34m.\u001b[0m\u001b[0mdecoder\u001b[0m\u001b[0;34m(\u001b[0m\u001b[0mtarget\u001b[0m\u001b[0;34m,\u001b[0m \u001b[0mencoded\u001b[0m\u001b[0;34m,\u001b[0m \u001b[0mdecoder_mask\u001b[0m\u001b[0;34m,\u001b[0m \u001b[0mencoder_mask\u001b[0m\u001b[0;34m)\u001b[0m\u001b[0;34m\u001b[0m\u001b[0;34m\u001b[0m\u001b[0m\n",
            "\u001b[0;32m/usr/local/lib/python3.7/dist-packages/torch/nn/modules/module.py\u001b[0m in \u001b[0;36m_call_impl\u001b[0;34m(self, *input, **kwargs)\u001b[0m\n\u001b[1;32m   1100\u001b[0m         if not (self._backward_hooks or self._forward_hooks or self._forward_pre_hooks or _global_backward_hooks\n\u001b[1;32m   1101\u001b[0m                 or _global_forward_hooks or _global_forward_pre_hooks):\n\u001b[0;32m-> 1102\u001b[0;31m             \u001b[0;32mreturn\u001b[0m \u001b[0mforward_call\u001b[0m\u001b[0;34m(\u001b[0m\u001b[0;34m*\u001b[0m\u001b[0minput\u001b[0m\u001b[0;34m,\u001b[0m \u001b[0;34m**\u001b[0m\u001b[0mkwargs\u001b[0m\u001b[0;34m)\u001b[0m\u001b[0;34m\u001b[0m\u001b[0;34m\u001b[0m\u001b[0m\n\u001b[0m\u001b[1;32m   1103\u001b[0m         \u001b[0;31m# Do not call functions when jit is used\u001b[0m\u001b[0;34m\u001b[0m\u001b[0;34m\u001b[0m\u001b[0;34m\u001b[0m\u001b[0m\n\u001b[1;32m   1104\u001b[0m         \u001b[0mfull_backward_hooks\u001b[0m\u001b[0;34m,\u001b[0m \u001b[0mnon_full_backward_hooks\u001b[0m \u001b[0;34m=\u001b[0m \u001b[0;34m[\u001b[0m\u001b[0;34m]\u001b[0m\u001b[0;34m,\u001b[0m \u001b[0;34m[\u001b[0m\u001b[0;34m]\u001b[0m\u001b[0;34m\u001b[0m\u001b[0;34m\u001b[0m\u001b[0m\n",
            "\u001b[0;32m<ipython-input-22-3886b97641d6>\u001b[0m in \u001b[0;36mforward\u001b[0;34m(self, texts, mask)\u001b[0m\n\u001b[1;32m     29\u001b[0m         \u001b[0mcombined\u001b[0m \u001b[0;34m=\u001b[0m \u001b[0mself\u001b[0m\u001b[0;34m.\u001b[0m\u001b[0mdropout\u001b[0m\u001b[0;34m(\u001b[0m\u001b[0mpos_hidden\u001b[0m \u001b[0;34m+\u001b[0m \u001b[0mtext_hidden\u001b[0m\u001b[0;34m)\u001b[0m\u001b[0;34m\u001b[0m\u001b[0;34m\u001b[0m\u001b[0m\n\u001b[1;32m     30\u001b[0m         \u001b[0;32mfor\u001b[0m \u001b[0mlayer\u001b[0m \u001b[0;32min\u001b[0m \u001b[0mself\u001b[0m\u001b[0;34m.\u001b[0m\u001b[0mencoder_layers\u001b[0m\u001b[0;34m:\u001b[0m\u001b[0;34m\u001b[0m\u001b[0;34m\u001b[0m\u001b[0m\n\u001b[0;32m---> 31\u001b[0;31m             \u001b[0mcombined\u001b[0m \u001b[0;34m=\u001b[0m \u001b[0mlayer\u001b[0m\u001b[0;34m(\u001b[0m\u001b[0mcombined\u001b[0m\u001b[0;34m,\u001b[0m \u001b[0mmask\u001b[0m\u001b[0;34m)\u001b[0m\u001b[0;34m\u001b[0m\u001b[0;34m\u001b[0m\u001b[0m\n\u001b[0m\u001b[1;32m     32\u001b[0m         \u001b[0;32mreturn\u001b[0m \u001b[0mcombined\u001b[0m\u001b[0;34m\u001b[0m\u001b[0;34m\u001b[0m\u001b[0m\n",
            "\u001b[0;32m/usr/local/lib/python3.7/dist-packages/torch/nn/modules/module.py\u001b[0m in \u001b[0;36m_call_impl\u001b[0;34m(self, *input, **kwargs)\u001b[0m\n\u001b[1;32m   1100\u001b[0m         if not (self._backward_hooks or self._forward_hooks or self._forward_pre_hooks or _global_backward_hooks\n\u001b[1;32m   1101\u001b[0m                 or _global_forward_hooks or _global_forward_pre_hooks):\n\u001b[0;32m-> 1102\u001b[0;31m             \u001b[0;32mreturn\u001b[0m \u001b[0mforward_call\u001b[0m\u001b[0;34m(\u001b[0m\u001b[0;34m*\u001b[0m\u001b[0minput\u001b[0m\u001b[0;34m,\u001b[0m \u001b[0;34m**\u001b[0m\u001b[0mkwargs\u001b[0m\u001b[0;34m)\u001b[0m\u001b[0;34m\u001b[0m\u001b[0;34m\u001b[0m\u001b[0m\n\u001b[0m\u001b[1;32m   1103\u001b[0m         \u001b[0;31m# Do not call functions when jit is used\u001b[0m\u001b[0;34m\u001b[0m\u001b[0;34m\u001b[0m\u001b[0;34m\u001b[0m\u001b[0m\n\u001b[1;32m   1104\u001b[0m         \u001b[0mfull_backward_hooks\u001b[0m\u001b[0;34m,\u001b[0m \u001b[0mnon_full_backward_hooks\u001b[0m \u001b[0;34m=\u001b[0m \u001b[0;34m[\u001b[0m\u001b[0;34m]\u001b[0m\u001b[0;34m,\u001b[0m \u001b[0;34m[\u001b[0m\u001b[0;34m]\u001b[0m\u001b[0;34m\u001b[0m\u001b[0;34m\u001b[0m\u001b[0m\n",
            "\u001b[0;32m<ipython-input-21-dbc31d2521b7>\u001b[0m in \u001b[0;36mforward\u001b[0;34m(self, embedding, mask)\u001b[0m\n\u001b[1;32m     24\u001b[0m \u001b[0;34m\u001b[0m\u001b[0m\n\u001b[1;32m     25\u001b[0m     \u001b[0;32mdef\u001b[0m \u001b[0mforward\u001b[0m\u001b[0;34m(\u001b[0m\u001b[0mself\u001b[0m\u001b[0;34m,\u001b[0m \u001b[0membedding\u001b[0m\u001b[0;34m,\u001b[0m \u001b[0mmask\u001b[0m\u001b[0;34m)\u001b[0m\u001b[0;34m:\u001b[0m\u001b[0;34m\u001b[0m\u001b[0;34m\u001b[0m\u001b[0m\n\u001b[0;32m---> 26\u001b[0;31m         \u001b[0mgated\u001b[0m\u001b[0;34m,\u001b[0m \u001b[0m_\u001b[0m \u001b[0;34m=\u001b[0m \u001b[0mself\u001b[0m\u001b[0;34m.\u001b[0m\u001b[0mselfAttention\u001b[0m\u001b[0;34m(\u001b[0m\u001b[0;34m*\u001b[0m\u001b[0;34m(\u001b[0m\u001b[0;36m3\u001b[0m \u001b[0;34m*\u001b[0m \u001b[0;34m[\u001b[0m\u001b[0membedding\u001b[0m\u001b[0;34m]\u001b[0m\u001b[0;34m)\u001b[0m\u001b[0;34m,\u001b[0m \u001b[0mmask\u001b[0m\u001b[0;34m)\u001b[0m\u001b[0;34m\u001b[0m\u001b[0;34m\u001b[0m\u001b[0m\n\u001b[0m\u001b[1;32m     27\u001b[0m         \u001b[0;31m# apply residual connection\u001b[0m\u001b[0;34m\u001b[0m\u001b[0;34m\u001b[0m\u001b[0;34m\u001b[0m\u001b[0m\n\u001b[1;32m     28\u001b[0m         \u001b[0mnormalized\u001b[0m \u001b[0;34m=\u001b[0m \u001b[0mself\u001b[0m\u001b[0;34m.\u001b[0m\u001b[0mnorm_attention\u001b[0m\u001b[0;34m(\u001b[0m\u001b[0membedding\u001b[0m \u001b[0;34m+\u001b[0m \u001b[0mgated\u001b[0m\u001b[0;34m)\u001b[0m\u001b[0;34m\u001b[0m\u001b[0;34m\u001b[0m\u001b[0m\n",
            "\u001b[0;32m/usr/local/lib/python3.7/dist-packages/torch/nn/modules/module.py\u001b[0m in \u001b[0;36m_call_impl\u001b[0;34m(self, *input, **kwargs)\u001b[0m\n\u001b[1;32m   1100\u001b[0m         if not (self._backward_hooks or self._forward_hooks or self._forward_pre_hooks or _global_backward_hooks\n\u001b[1;32m   1101\u001b[0m                 or _global_forward_hooks or _global_forward_pre_hooks):\n\u001b[0;32m-> 1102\u001b[0;31m             \u001b[0;32mreturn\u001b[0m \u001b[0mforward_call\u001b[0m\u001b[0;34m(\u001b[0m\u001b[0;34m*\u001b[0m\u001b[0minput\u001b[0m\u001b[0;34m,\u001b[0m \u001b[0;34m**\u001b[0m\u001b[0mkwargs\u001b[0m\u001b[0;34m)\u001b[0m\u001b[0;34m\u001b[0m\u001b[0;34m\u001b[0m\u001b[0m\n\u001b[0m\u001b[1;32m   1103\u001b[0m         \u001b[0;31m# Do not call functions when jit is used\u001b[0m\u001b[0;34m\u001b[0m\u001b[0;34m\u001b[0m\u001b[0;34m\u001b[0m\u001b[0m\n\u001b[1;32m   1104\u001b[0m         \u001b[0mfull_backward_hooks\u001b[0m\u001b[0;34m,\u001b[0m \u001b[0mnon_full_backward_hooks\u001b[0m \u001b[0;34m=\u001b[0m \u001b[0;34m[\u001b[0m\u001b[0;34m]\u001b[0m\u001b[0;34m,\u001b[0m \u001b[0;34m[\u001b[0m\u001b[0;34m]\u001b[0m\u001b[0;34m\u001b[0m\u001b[0;34m\u001b[0m\u001b[0m\n",
            "\u001b[0;32m/usr/local/lib/python3.7/dist-packages/torchtext/nn/modules/multiheadattention.py\u001b[0m in \u001b[0;36mforward\u001b[0;34m(self, query, key, value, attn_mask, bias_k, bias_v)\u001b[0m\n\u001b[1;32m    102\u001b[0m \u001b[0;34m\u001b[0m\u001b[0m\n\u001b[1;32m    103\u001b[0m         attn_output, attn_output_weights = self.attention_layer(q, k, v, attn_mask=attn_mask,\n\u001b[0;32m--> 104\u001b[0;31m                                                                 bias_k=bias_k, bias_v=bias_v)\n\u001b[0m\u001b[1;32m    105\u001b[0m         \u001b[0mattn_output\u001b[0m \u001b[0;34m=\u001b[0m \u001b[0mattn_output\u001b[0m\u001b[0;34m.\u001b[0m\u001b[0mreshape\u001b[0m\u001b[0;34m(\u001b[0m\u001b[0mtgt_len\u001b[0m\u001b[0;34m,\u001b[0m \u001b[0mbsz\u001b[0m\u001b[0;34m,\u001b[0m \u001b[0membed_dim\u001b[0m\u001b[0;34m)\u001b[0m\u001b[0;34m\u001b[0m\u001b[0;34m\u001b[0m\u001b[0m\n\u001b[1;32m    106\u001b[0m         \u001b[0mattn_output\u001b[0m \u001b[0;34m=\u001b[0m \u001b[0mself\u001b[0m\u001b[0;34m.\u001b[0m\u001b[0mout_proj\u001b[0m\u001b[0;34m(\u001b[0m\u001b[0mattn_output\u001b[0m\u001b[0;34m)\u001b[0m\u001b[0;34m\u001b[0m\u001b[0;34m\u001b[0m\u001b[0m\n",
            "\u001b[0;32m/usr/local/lib/python3.7/dist-packages/torch/nn/modules/module.py\u001b[0m in \u001b[0;36m_call_impl\u001b[0;34m(self, *input, **kwargs)\u001b[0m\n\u001b[1;32m   1100\u001b[0m         if not (self._backward_hooks or self._forward_hooks or self._forward_pre_hooks or _global_backward_hooks\n\u001b[1;32m   1101\u001b[0m                 or _global_forward_hooks or _global_forward_pre_hooks):\n\u001b[0;32m-> 1102\u001b[0;31m             \u001b[0;32mreturn\u001b[0m \u001b[0mforward_call\u001b[0m\u001b[0;34m(\u001b[0m\u001b[0;34m*\u001b[0m\u001b[0minput\u001b[0m\u001b[0;34m,\u001b[0m \u001b[0;34m**\u001b[0m\u001b[0mkwargs\u001b[0m\u001b[0;34m)\u001b[0m\u001b[0;34m\u001b[0m\u001b[0;34m\u001b[0m\u001b[0m\n\u001b[0m\u001b[1;32m   1103\u001b[0m         \u001b[0;31m# Do not call functions when jit is used\u001b[0m\u001b[0;34m\u001b[0m\u001b[0;34m\u001b[0m\u001b[0;34m\u001b[0m\u001b[0m\n\u001b[1;32m   1104\u001b[0m         \u001b[0mfull_backward_hooks\u001b[0m\u001b[0;34m,\u001b[0m \u001b[0mnon_full_backward_hooks\u001b[0m \u001b[0;34m=\u001b[0m \u001b[0;34m[\u001b[0m\u001b[0;34m]\u001b[0m\u001b[0;34m,\u001b[0m \u001b[0;34m[\u001b[0m\u001b[0;34m]\u001b[0m\u001b[0;34m\u001b[0m\u001b[0;34m\u001b[0m\u001b[0m\n",
            "\u001b[0;32m/usr/local/lib/python3.7/dist-packages/torchtext/nn/modules/multiheadattention.py\u001b[0m in \u001b[0;36mforward\u001b[0;34m(self, query, key, value, attn_mask, bias_k, bias_v)\u001b[0m\n\u001b[1;32m    204\u001b[0m \u001b[0;34m\u001b[0m\u001b[0m\n\u001b[1;32m    205\u001b[0m         \u001b[0;31m# Dot product of q, k\u001b[0m\u001b[0;34m\u001b[0m\u001b[0;34m\u001b[0m\u001b[0;34m\u001b[0m\u001b[0m\n\u001b[0;32m--> 206\u001b[0;31m         \u001b[0mattn_output_weights\u001b[0m \u001b[0;34m=\u001b[0m \u001b[0mtorch\u001b[0m\u001b[0;34m.\u001b[0m\u001b[0mmatmul\u001b[0m\u001b[0;34m(\u001b[0m\u001b[0mquery\u001b[0m\u001b[0;34m,\u001b[0m \u001b[0mkey\u001b[0m\u001b[0;34m.\u001b[0m\u001b[0mtranspose\u001b[0m\u001b[0;34m(\u001b[0m\u001b[0;34m-\u001b[0m\u001b[0;36m2\u001b[0m\u001b[0;34m,\u001b[0m \u001b[0;34m-\u001b[0m\u001b[0;36m1\u001b[0m\u001b[0;34m)\u001b[0m\u001b[0;34m)\u001b[0m\u001b[0;34m\u001b[0m\u001b[0;34m\u001b[0m\u001b[0m\n\u001b[0m\u001b[1;32m    207\u001b[0m         \u001b[0;32mif\u001b[0m \u001b[0mattn_mask\u001b[0m \u001b[0;32mis\u001b[0m \u001b[0;32mnot\u001b[0m \u001b[0;32mNone\u001b[0m\u001b[0;34m:\u001b[0m\u001b[0;34m\u001b[0m\u001b[0;34m\u001b[0m\u001b[0m\n\u001b[1;32m    208\u001b[0m             \u001b[0mattn_output_weights\u001b[0m\u001b[0;34m.\u001b[0m\u001b[0mmasked_fill_\u001b[0m\u001b[0;34m(\u001b[0m\u001b[0mattn_mask\u001b[0m\u001b[0;34m,\u001b[0m \u001b[0;34m-\u001b[0m\u001b[0;36m1e8\u001b[0m\u001b[0;34m,\u001b[0m\u001b[0;34m)\u001b[0m\u001b[0;34m\u001b[0m\u001b[0;34m\u001b[0m\u001b[0m\n",
            "\u001b[0;31mRuntimeError\u001b[0m: CUDA out of memory. Tried to allocate 48.00 MiB (GPU 0; 11.17 GiB total capacity; 10.62 GiB already allocated; 21.81 MiB free; 10.64 GiB reserved in total by PyTorch) If reserved memory is >> allocated memory try setting max_split_size_mb to avoid fragmentation.  See documentation for Memory Management and PYTORCH_CUDA_ALLOC_CONF"
          ]
        }
      ]
    },
    {
      "cell_type": "code",
      "source": [
        "torch.cuda.empty_cache()"
      ],
      "metadata": {
        "id": "NwQbrXMF1WJO"
      },
      "execution_count": 49,
      "outputs": []
    },
    {
      "cell_type": "code",
      "source": [
        "def infer(sentence:str,\n",
        "          model:nn.Module,\n",
        "          device,\n",
        "          MAX_LEN=MAX_LEN):\n",
        "    tokenized = tokenizer.encode(sentence, bos=True, eos=True)[:MAX_LEN]\n",
        "    padded = torch.nn.utils.rnn.pad_sequence(\n",
        "        [tokenized],\n",
        "        batch_first=True,\n",
        "        padding_value=PAD_IDX\n",
        "    )\n",
        "    encoder_mask = model.mask(padded)\n",
        "    start_idx, end_idx = (\n",
        "        tokenizer.subword_to_id(START_TOKEN),\n",
        "        tokenizer.subword_to_id(END_TOKEN),\n",
        "    )\n",
        "    targets = [start_idx]\n",
        "    with torch.no_grad():\n",
        "        encoded = model.encoder(padded, encoder_mask),\n",
        "\n",
        "    for i in range(MAX_LEN):\n",
        "        target = torch.LongTensor([targets]).to(device)\n",
        "        decoder_mask = model.mask(target)\n",
        "        with torch.no_grad():\n",
        "            output, attention = model.decoder(target, encoded, decoder_mask, encoder_mask)\n",
        "        prediction = output.argmax(2)[:,-1].item()\n",
        "        targets.append(prediction)\n",
        "        if prediction == end_idx:\n",
        "            break\n",
        "    return tokenizer.decode(targets)"
      ],
      "metadata": {
        "id": "pT0Xi-kT0w8K"
      },
      "execution_count": null,
      "outputs": []
    },
    {
      "cell_type": "code",
      "source": [
        "model.load_state_dict(torch.load('trans.pt'))"
      ],
      "metadata": {
        "id": "u0YTdCddA2Qv"
      },
      "execution_count": null,
      "outputs": []
    }
  ]
}